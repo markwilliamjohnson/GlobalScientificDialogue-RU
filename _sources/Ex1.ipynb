{
 "cells": [
  {
   "cell_type": "markdown",
   "metadata": {},
   "source": [
    "# Imagining the future\n",
    "\n",
    ":::{admonition} Log in to Microsoft forms to view this page properly\n",
    ":class: warning\n",
    "In order for this workbook to work correctly, please log-in to Microsoft forms using your KU username and password:\n",
    "http://forms.microsoft.com\n",
    ":::\n",
    "\n",
    "\n",
    "\n",
    "## What is happening with digitization? \n",
    "Technology is vastly increasing the possible choices we have to organise our societies and education. In this session you will explore 4 value statements concerning the future of education (these are drawn from the https://www.nearfutureteaching.ed.ac.uk/ project). \n",
    "\n",
    "Behind each technological possibily lies a set of values with regards to what matters in education.\n",
    "\n",
    "We want to find out your views and your values in education. \n",
    "\n"
   ]
  },
  {
   "cell_type": "markdown",
   "metadata": {},
   "source": [
    "# Instructions\n",
    "\n",
    "Here is a form in which you need to select two value statements from below.\n",
    "\n",
    "Read the statements carefully, and then choose which of the value statements you prefer over the other one. Then say why you prefer it. \n",
    "\n",
    "This exercise will produce data which we will show you how to analyze using computational tools. \n",
    "\n",
    "# Data input form\n",
    "<iframe width=\"640px\" height= \"480px\" src= \"https://forms.office.com/Pages/ResponsePage.aspx?id=kX-So6HNlkaviYyfHO_6kR6Y9MhHDyhJirqDyHYLxxFUMEhVRjg4NVhENFVCUUtDWjdHQ0RDSkQ1Vi4u&embed=true\" frameborder= \"0\" marginwidth= \"0\" marginheight= \"0\" style= \"border: none; max-width:100%; max-height:100vh\" allowfullscreen webkitallowfullscreen mozallowfullscreen msallowfullscreen> </iframe>"
   ]
  },
  {
   "cell_type": "markdown",
   "metadata": {},
   "source": [
    "### Scenario 1\n",
    "<img src=\"./Value Card 1_Page_1.jpg\" width=50%></td><td>\n"
   ]
  },
  {
   "cell_type": "markdown",
   "metadata": {},
   "source": [
    "### Scenario 2\n",
    "<img src=\"./Value Card 2_Page_1.jpg\" width=50%></td><td>\n"
   ]
  },
  {
   "cell_type": "markdown",
   "metadata": {},
   "source": [
    "### Scenario 3\n",
    "<img src=\"./Value Card 3_Page_1.jpg\" width=50%></td><td>\n",
    "    "
   ]
  },
  {
   "cell_type": "markdown",
   "metadata": {},
   "source": [
    "### Scenario 4\n",
    "<img src=\"./Value Card 4_Page_1.jpg\" width=50%></td><td>\n",
    "    "
   ]
  }
 ],
 "metadata": {
  "kernelspec": {
   "display_name": "Python 3",
   "language": "python",
   "name": "python3"
  },
  "language_info": {
   "codemirror_mode": {
    "name": "ipython",
    "version": 3
   },
   "file_extension": ".py",
   "mimetype": "text/x-python",
   "name": "python",
   "nbconvert_exporter": "python",
   "pygments_lexer": "ipython3",
   "version": "3.7.6"
  }
 },
 "nbformat": 4,
 "nbformat_minor": 4
}
