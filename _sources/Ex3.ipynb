{
 "cells": [
  {
   "cell_type": "markdown",
   "metadata": {},
   "source": [
    "# Disciplinary scenario design\n",
    "In this activity, we are going to ask you to design a digital activity in your discipline (in groups).\n",
    "\n",
    "Use the form below to tell us about the activities the students will do, what they will be told, what resources they will use, whether they will work alone or in groups.\n",
    "\n",
    "\n",
    "\n",
    "## Activities\n",
    "\n",
    "- Think of a topic area in your discipline where a digitalized activity might be appropriate\n",
    "    - this might be something to do with data, or visualisation, or simulation, or media\n",
    "    \n",
    "- Explain what the students are told to do and why\n",
    "- Describe the tools that the students use in the activity\n",
    "- Describe the end-result\n",
    "- Describe the ways that the activity might be assessed\n",
    "\n"
   ]
  },
  {
   "cell_type": "markdown",
   "metadata": {},
   "source": [
    "<iframe width=\"640px\" height= \"480px\" src= \"https://forms.office.com/Pages/ResponsePage.aspx?id=kX-So6HNlkaviYyfHO_6kR6Y9MhHDyhJirqDyHYLxxFUMEdEOTBGMkYwRktYOFBSUUZCNTRUV0pKVS4u&embed=true\" frameborder= \"0\" marginwidth= \"0\" marginheight= \"0\" style= \"border: none; max-width:100%; max-height:100vh\" allowfullscreen webkitallowfullscreen mozallowfullscreen msallowfullscreen> </iframe>"
   ]
  },
  {
   "cell_type": "markdown",
   "metadata": {},
   "source": [
    "## Reflection on Values in Education\n",
    "\n",
    "There is a final form where we would like you to reflect on this activity in the light of the \"values\" that you compared in the second exercise.\n",
    "\n",
    "Thinking about each of these values, write how you think this activity addresses:\n",
    "\n",
    "- Experience over assessment\n",
    "- Diversity and Inclusion\n",
    "- Relationships over instruction\n",
    "- Participation and Transparency"
   ]
  },
  {
   "cell_type": "markdown",
   "metadata": {},
   "source": [
    "<iframe width=\"640px\" height= \"480px\" src= \"https://forms.office.com/Pages/ResponsePage.aspx?id=kX-So6HNlkaviYyfHO_6kR6Y9MhHDyhJirqDyHYLxxFUNVBVQ05DUjI5VjVXWVhUV0REWVJNTVdZSS4u&embed=true\" frameborder= \"0\" marginwidth= \"0\" marginheight= \"0\" style= \"border: none; max-width:100%; max-height:100vh\" allowfullscreen webkitallowfullscreen mozallowfullscreen msallowfullscreen> </iframe>"
   ]
  }
 ],
 "metadata": {
  "kernelspec": {
   "display_name": "Python 3",
   "language": "python",
   "name": "python3"
  },
  "language_info": {
   "codemirror_mode": {
    "name": "ipython",
    "version": 3
   },
   "file_extension": ".py",
   "mimetype": "text/x-python",
   "name": "python",
   "nbconvert_exporter": "python",
   "pygments_lexer": "ipython3",
   "version": "3.7.6"
  }
 },
 "nbformat": 4,
 "nbformat_minor": 4
}
