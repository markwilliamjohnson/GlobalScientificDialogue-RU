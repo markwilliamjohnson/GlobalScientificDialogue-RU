{
 "cells": [
  {
   "cell_type": "markdown",
   "metadata": {},
   "source": [
    "# Introduction to Tools for Digitalization and Computational Thinking\n",
    "\n",
    "There are a range free tools and online services which can be used by teachers and students to support digitalized teaching and learning. \n",
    "\n",
    "One of the most important tools is the Jupyter notebook - an online environment for programming.\n",
    "\n",
    "There are shared programming environments available, including https://colab.research.google.com/ and http://cocalc.com, as well as online programming environments built into other learning spaces such as http://Kaggle.com\n",
    "\n",
    "\n",
    "## Digital tools and techniques\n",
    "\n",
    "The two principal computer languages which are used for digital activities are Python and R. Both these langauges present powerful ways of manipulating and visualising data, and both have huge support on the web. \n",
    "\n",
    "Jupyter Notebooks work with both Python and R."
   ]
  },
  {
   "cell_type": "markdown",
   "metadata": {},
   "source": [
    "## Using Python online\n",
    "\n",
    "The worksheet for this workshop has been produced from a type of file called a \"Jupyter Notebook\". This file type can be run in live programming environments. This means that a simple line of code, like:"
   ]
  },
  {
   "cell_type": "code",
   "execution_count": 1,
   "metadata": {},
   "outputs": [
    {
     "name": "stdout",
     "output_type": "stream",
     "text": [
      "hello world\n"
     ]
    }
   ],
   "source": [
    "print (\"hello world\")"
   ]
  },
  {
   "cell_type": "markdown",
   "metadata": {},
   "source": [
    "Can be run within the same web environment within which students do their learning.\n",
    "\n",
    "This means that students can be guided through computational activities with videos, text and code snippets so that they can run code step-by-step\n"
   ]
  },
  {
   "cell_type": "markdown",
   "metadata": {},
   "source": [
    "# Using Python to analyse data from the questionnaires we answered earlier\n",
    "\n",
    "Here is a link to a folder in which the excel spreadsheet files can be found which contain data which you typed in response to questions earlier.\n",
    "\n",
    "https://alumni-my.sharepoint.com/:f:/g/personal/xgl567_ku_dk/EuwSaUN9SPtEoNjFVa7MgzYBHTmNxFhYRe_BBcNchw-Gzw?e=u6j1df\n",
    "\n",
    "Click on the link and choose the spreadsheet file which you want to download\n"
   ]
  },
  {
   "cell_type": "markdown",
   "metadata": {},
   "source": [
    "# Getting started in Python with Data\n",
    "\n",
    "We are going to use the Cocalc programming environment. \n",
    "\n",
    "Cocalc can be found at http://cocalc.com\n"
   ]
  },
  {
   "cell_type": "markdown",
   "metadata": {},
   "source": [
    "# Download the file for this notebook\n",
    "\n",
    "1. To use cocalc, you need to import the file for this notebook into cocalc. To do that, click on the download icon at the top right of this page, and select \"ipynb\"\n",
    "2. To import your file into cocalc, upload the ipynb file."
   ]
  },
  {
   "cell_type": "markdown",
   "metadata": {},
   "source": [
    "# Analyse questionnaire data\n",
    "\n",
    "To analyze the questionnaire data you produced in the previous exercise, you need to load the data into Python's data structure, which is called a \"Panda dataframe\"\n",
    "\n",
    "Basically, you need to run the code below, and ensure that the pathname matches the name of the data file you have uploaded\n"
   ]
  },
  {
   "cell_type": "code",
   "execution_count": null,
   "metadata": {},
   "outputs": [],
   "source": [
    "import pandas as pd\n",
    "\n",
    "mydata = pd.load_excel (\"mydatafile.xlsx\", encoding=\"latin1\")\n"
   ]
  },
  {
   "cell_type": "markdown",
   "metadata": {},
   "source": [
    "# Viewing the imported data\n",
    "\n",
    "if you have run the code above, then it is easy to see the data that has been imported by simply typing:\n"
   ]
  },
  {
   "cell_type": "code",
   "execution_count": null,
   "metadata": {},
   "outputs": [],
   "source": [
    "mydata"
   ]
  },
  {
   "cell_type": "markdown",
   "metadata": {},
   "source": [
    "Equally, you can print the contents of the data file with:"
   ]
  },
  {
   "cell_type": "code",
   "execution_count": null,
   "metadata": {},
   "outputs": [],
   "source": [
    "print (mydata)"
   ]
  },
  {
   "cell_type": "markdown",
   "metadata": {},
   "source": [
    "note that these approaches display the data differently."
   ]
  },
  {
   "cell_type": "markdown",
   "metadata": {},
   "source": [
    "# Selecting and filtering specific fields of data\n",
    "\n",
    "You can select and filter specific fields of data by specifying which columns you want, and which criteria you want to select"
   ]
  },
  {
   "cell_type": "code",
   "execution_count": null,
   "metadata": {},
   "outputs": [],
   "source": [
    "import pandas as pd\n",
    "\n",
    "mydata = pd.load_excel (\"mydatafile.xlsx\", encoding=\"latin1\")\n",
    "\n",
    "mydata_selection = mydata[[\"username\"] == \"a_user\"]\n",
    "\n",
    "print (mydata_selection)"
   ]
  },
  {
   "cell_type": "markdown",
   "metadata": {},
   "source": [
    "This will display just the data where the username column contains the name specified as \"a_user\" "
   ]
  },
  {
   "cell_type": "code",
   "execution_count": 29,
   "metadata": {},
   "outputs": [
    {
     "data": {
      "image/svg+xml": [
       "<?xml version=\"1.0\" encoding=\"UTF-8\" standalone=\"no\"?>\r\n",
       "<!DOCTYPE svg PUBLIC \"-//W3C//DTD SVG 1.1//EN\"\r\n",
       " \"http://www.w3.org/Graphics/SVG/1.1/DTD/svg11.dtd\">\r\n",
       "<!-- Generated by graphviz version 2.44.2~dev.20201112.1525 (20201112.1525)\r\n",
       " -->\r\n",
       "<!-- Title: G Pages: 1 -->\r\n",
       "<svg width=\"172pt\" height=\"142pt\"\r\n",
       " viewBox=\"0.00 0.00 172.00 142.00\" xmlns=\"http://www.w3.org/2000/svg\" xmlns:xlink=\"http://www.w3.org/1999/xlink\">\r\n",
       "<g id=\"graph0\" class=\"graph\" transform=\"scale(1 1) rotate(0) translate(4 138)\">\r\n",
       "<title>G</title>\r\n",
       "<polygon fill=\"white\" stroke=\"transparent\" points=\"-4,4 -4,-138 168,-138 168,4 -4,4\"/>\r\n",
       "<g id=\"clust1\" class=\"cluster\">\r\n",
       "<title>cluster1</title>\r\n",
       "<defs>\r\n",
       "<linearGradient id=\"l_0\" gradientUnits=\"userSpaceOnUse\" x1=\"43\" y1=\"-83\" x2=\"43\" y2=\"-8\" >\r\n",
       "<stop offset=\"0\" style=\"stop-color:blue;stop-opacity:1.;\"/>\r\n",
       "<stop offset=\"1\" style=\"stop-color:cyan;stop-opacity:1.;\"/>\r\n",
       "</linearGradient>\r\n",
       "</defs>\r\n",
       "<polygon fill=\"url(#l_0)\" stroke=\"black\" points=\"8,-8 8,-83 78,-83 78,-8 8,-8\"/>\r\n",
       "<text text-anchor=\"middle\" x=\"43\" y=\"-67.8\" font-family=\"Times New Roman,serif\" font-size=\"14.00\" fill=\"white\">identity</text>\r\n",
       "</g>\r\n",
       "<g id=\"clust2\" class=\"cluster\">\r\n",
       "<title>cluster2</title>\r\n",
       "<defs>\r\n",
       "<linearGradient id=\"l_1\" gradientUnits=\"userSpaceOnUse\" x1=\"121\" y1=\"-83\" x2=\"121\" y2=\"-8\" >\r\n",
       "<stop offset=\"0\" style=\"stop-color:blue;stop-opacity:1.;\"/>\r\n",
       "<stop offset=\"1\" style=\"stop-color:cyan;stop-opacity:1.;\"/>\r\n",
       "</linearGradient>\r\n",
       "</defs>\r\n",
       "<polygon fill=\"url(#l_1)\" stroke=\"black\" points=\"86,-8 86,-83 156,-83 156,-8 86,-8\"/>\r\n",
       "<text text-anchor=\"middle\" x=\"121\" y=\"-67.8\" font-family=\"Times New Roman,serif\" font-size=\"14.00\" fill=\"white\">identity</text>\r\n",
       "</g>\r\n",
       "<!-- A -->\r\n",
       "<g id=\"node1\" class=\"node\">\r\n",
       "<title>A</title>\r\n",
       "<polygon fill=\"none\" stroke=\"black\" points=\"61,-130.5 25,-130.5 25,-94.5 61,-94.5 61,-130.5\"/>\r\n",
       "<text text-anchor=\"middle\" x=\"43\" y=\"-108.8\" font-family=\"Times New Roman,serif\" font-size=\"14.00\">test</text>\r\n",
       "</g>\r\n",
       "<!-- asdf -->\r\n",
       "<g id=\"node2\" class=\"node\">\r\n",
       "<title>asdf</title>\r\n",
       "<defs>\r\n",
       "<linearGradient id=\"l_2\" gradientUnits=\"userSpaceOnUse\" x1=\"43\" y1=\"-16\" x2=\"43\" y2=\"-52\" >\r\n",
       "<stop offset=\"0\" style=\"stop-color:red;stop-opacity:1.;\"/>\r\n",
       "<stop offset=\"1\" style=\"stop-color:yellow;stop-opacity:1.;\"/>\r\n",
       "</linearGradient>\r\n",
       "</defs>\r\n",
       "<polygon fill=\"url(#l_2)\" stroke=\"black\" points=\"70,-52 16,-52 16,-16 70,-16 70,-52\"/>\r\n",
       "<text text-anchor=\"middle\" x=\"43\" y=\"-30.3\" font-family=\"Times New Roman,serif\" font-size=\"14.00\">asdf</text>\r\n",
       "</g>\r\n",
       "<!-- A&#45;&gt;asdf -->\r\n",
       "<g id=\"edge1\" class=\"edge\">\r\n",
       "<title>A:&#45;&gt;asdf:</title>\r\n",
       "<path fill=\"none\" stroke=\"black\" d=\"M48.76,-94.14C49.76,-84.69 50,-72.77 49.49,-62.12\"/>\r\n",
       "<polygon fill=\"black\" stroke=\"black\" points=\"52.97,-61.73 48.73,-52.03 45.99,-62.26 52.97,-61.73\"/>\r\n",
       "</g>\r\n",
       "<!-- asdf&#45;&gt;A -->\r\n",
       "<g id=\"edge2\" class=\"edge\">\r\n",
       "<title>asdf:&#45;&gt;A:</title>\r\n",
       "<path fill=\"none\" stroke=\"black\" d=\"M37.27,-52.03C36.26,-61.42 36,-73.32 36.49,-84\"/>\r\n",
       "<polygon fill=\"black\" stroke=\"black\" points=\"33.01,-84.42 37.24,-94.14 40,-83.91 33.01,-84.42\"/>\r\n",
       "</g>\r\n",
       "<!-- A1 -->\r\n",
       "<g id=\"node3\" class=\"node\">\r\n",
       "<title>A1</title>\r\n",
       "<polygon fill=\"none\" stroke=\"black\" points=\"142.5,-134 99.5,-134 99.5,-91 142.5,-91 142.5,-134\"/>\r\n",
       "<text text-anchor=\"middle\" x=\"121\" y=\"-108.8\" font-family=\"Times New Roman,serif\" font-size=\"14.00\">test1</text>\r\n",
       "</g>\r\n",
       "<!-- asdf1 -->\r\n",
       "<g id=\"node4\" class=\"node\">\r\n",
       "<title>asdf1</title>\r\n",
       "<defs>\r\n",
       "<linearGradient id=\"l_3\" gradientUnits=\"userSpaceOnUse\" x1=\"121\" y1=\"-16\" x2=\"121\" y2=\"-52\" >\r\n",
       "<stop offset=\"0\" style=\"stop-color:red;stop-opacity:1.;\"/>\r\n",
       "<stop offset=\"1\" style=\"stop-color:yellow;stop-opacity:1.;\"/>\r\n",
       "</linearGradient>\r\n",
       "</defs>\r\n",
       "<polygon fill=\"url(#l_3)\" stroke=\"black\" points=\"148,-52 94,-52 94,-16 148,-16 148,-52\"/>\r\n",
       "<text text-anchor=\"middle\" x=\"121\" y=\"-30.3\" font-family=\"Times New Roman,serif\" font-size=\"14.00\">asdf1</text>\r\n",
       "</g>\r\n",
       "<!-- A1&#45;&gt;asdf1 -->\r\n",
       "<g id=\"edge3\" class=\"edge\">\r\n",
       "<title>A1:&#45;&gt;asdf1:</title>\r\n",
       "<path fill=\"none\" stroke=\"black\" d=\"M127.06,-91C127.79,-82.25 127.94,-71.92 127.51,-62.52\"/>\r\n",
       "<polygon fill=\"black\" stroke=\"black\" points=\"130.99,-62.16 126.77,-52.44 124.01,-62.67 130.99,-62.16\"/>\r\n",
       "</g>\r\n",
       "<!-- asdf1&#45;&gt;A1 -->\r\n",
       "<g id=\"edge4\" class=\"edge\">\r\n",
       "<title>asdf1:&#45;&gt;A1:</title>\r\n",
       "<path fill=\"none\" stroke=\"black\" d=\"M115.23,-52.44C114.35,-60.86 114.06,-71.22 114.37,-80.89\"/>\r\n",
       "<polygon fill=\"black\" stroke=\"black\" points=\"110.88,-81.21 114.94,-91 117.87,-80.82 110.88,-81.21\"/>\r\n",
       "</g>\r\n",
       "</g>\r\n",
       "</svg>\r\n"
      ],
      "text/plain": [
       "<graphviz.dot.Digraph at 0x1c52e863d88>"
      ]
     },
     "execution_count": 29,
     "metadata": {},
     "output_type": "execute_result"
    }
   ],
   "source": [
    "import graphviz \n",
    "\n",
    "g = graphviz.Digraph('G', filename='g_c_n.gv')\n",
    "# g.attr(bgcolor='purple:pink', label='agraph', fontcolor='white')\n",
    "g.node (\"A\",\"test\", shape=\"square\")\n",
    "\n",
    "with g.subgraph(name='cluster1') as c:\n",
    "    c.attr(fillcolor='blue:cyan', label='identity', fontcolor='white',\n",
    "           style='filled', gradientangle='270')\n",
    "    c.attr('node', shape='box', fillcolor='red:yellow',\n",
    "           style='filled', gradientangle='90')\n",
    "\n",
    "    c.node (\"asdf\")\n",
    "g.edge (\"A\", \"asdf\")\n",
    "g.edge (\"asdf\", \"A\")\n",
    "\n",
    "g.node (\"A1\",\"test1\", shape=\"square\")\n",
    "\n",
    "with g.subgraph(name='cluster2') as c:\n",
    "    c.attr(fillcolor='blue:cyan', label='identity', fontcolor='white',\n",
    "           style='filled', gradientangle='270')\n",
    "    c.attr('node', shape='box', fillcolor='red:yellow',\n",
    "           style='filled', gradientangle='90')\n",
    "\n",
    "    c.node (\"asdf1\")\n",
    "g.edge (\"A1\", \"asdf1\")\n",
    "g.edge (\"asdf1\", \"A1\")\n",
    "# g.edge (\"A\", \"A1\")\n",
    "# g.edge (\"A1\", \"A\")\n",
    "\n",
    "g"
   ]
  },
  {
   "cell_type": "markdown",
   "metadata": {},
   "source": [
    "# Doing more complex things\n",
    "\n",
    "Obviously, simple selection can be done in Excel, but Python allows us to take deeper control of the data, and reformat it in various ways.\n",
    "\n",
    "At the simplest level, you might want to export a new spreadsheet with data for a particular user. \n"
   ]
  },
  {
   "cell_type": "code",
   "execution_count": 1,
   "metadata": {},
   "outputs": [
    {
     "data": {
      "image/svg+xml": [
       "<?xml version=\"1.0\" encoding=\"UTF-8\" standalone=\"no\"?>\r\n",
       "<!DOCTYPE svg PUBLIC \"-//W3C//DTD SVG 1.1//EN\"\r\n",
       " \"http://www.w3.org/Graphics/SVG/1.1/DTD/svg11.dtd\">\r\n",
       "<!-- Generated by graphviz version 2.44.2~dev.20201112.1525 (20201112.1525)\r\n",
       " -->\r\n",
       "<!-- Pages: 1 -->\r\n",
       "<svg width=\"223pt\" height=\"586pt\"\r\n",
       " viewBox=\"0.00 0.00 223.04 585.58\" xmlns=\"http://www.w3.org/2000/svg\" xmlns:xlink=\"http://www.w3.org/1999/xlink\">\r\n",
       "<g id=\"graph0\" class=\"graph\" transform=\"scale(1 1) rotate(0) translate(4 581.58)\">\r\n",
       "<polygon fill=\"white\" stroke=\"transparent\" points=\"-4,4 -4,-581.58 219.04,-581.58 219.04,4 -4,4\"/>\r\n",
       "<!-- A -->\r\n",
       "<g id=\"node1\" class=\"node\">\r\n",
       "<title>A</title>\r\n",
       "<ellipse fill=\"none\" stroke=\"black\" cx=\"67.44\" cy=\"-342.38\" rx=\"57.38\" ry=\"57.38\"/>\r\n",
       "<ellipse fill=\"none\" stroke=\"black\" cx=\"67.44\" cy=\"-342.38\" rx=\"61.39\" ry=\"61.39\"/>\r\n",
       "<text text-anchor=\"middle\" x=\"67.44\" y=\"-338.68\" font-family=\"Times New Roman,serif\" font-size=\"14.00\">Study Board</text>\r\n",
       "</g>\r\n",
       "<!-- B -->\r\n",
       "<g id=\"node2\" class=\"node\">\r\n",
       "<title>B</title>\r\n",
       "<ellipse fill=\"none\" stroke=\"black\" cx=\"143.44\" cy=\"-158.59\" rx=\"67.68\" ry=\"67.68\"/>\r\n",
       "<ellipse fill=\"none\" stroke=\"black\" cx=\"143.44\" cy=\"-158.59\" rx=\"71.69\" ry=\"71.69\"/>\r\n",
       "<text text-anchor=\"middle\" x=\"143.44\" y=\"-154.89\" font-family=\"Times New Roman,serif\" font-size=\"14.00\">Tech enthusiast</text>\r\n",
       "</g>\r\n",
       "<!-- A&#45;&gt;B -->\r\n",
       "<g id=\"edge1\" class=\"edge\">\r\n",
       "<title>A:&#45;&gt;B:</title>\r\n",
       "<path fill=\"none\" stroke=\"black\" d=\"M85.91,-283.77C90.09,-271.9 94.7,-259.55 99.44,-248.19 101.69,-242.81 104.12,-237.3 106.64,-231.78\"/>\r\n",
       "<polygon fill=\"black\" stroke=\"black\" points=\"109.9,-233.07 110.94,-222.53 103.55,-230.12 109.9,-233.07\"/>\r\n",
       "<text text-anchor=\"middle\" x=\"103.94\" y=\"-251.99\" font-family=\"Times New Roman,serif\" font-size=\"14.00\">+</text>\r\n",
       "</g>\r\n",
       "<!-- B&#45;&gt;A -->\r\n",
       "<g id=\"edge2\" class=\"edge\">\r\n",
       "<title>B:&#45;&gt;A:</title>\r\n",
       "<path fill=\"none\" stroke=\"black\" d=\"M122.37,-227.05C118.09,-239.2 113.37,-251.67 108.44,-263.19 106.17,-268.51 103.67,-273.97 101.06,-279.41\"/>\r\n",
       "<polygon fill=\"black\" stroke=\"black\" points=\"97.86,-277.99 96.59,-288.5 104.14,-281.07 97.86,-277.99\"/>\r\n",
       "<text text-anchor=\"middle\" x=\"117.94\" y=\"-251.99\" font-family=\"Times New Roman,serif\" font-size=\"14.00\">+</text>\r\n",
       "</g>\r\n",
       "<!-- L -->\r\n",
       "<g id=\"node3\" class=\"node\">\r\n",
       "<title>L</title>\r\n",
       "<ellipse fill=\"none\" stroke=\"black\" cx=\"60.44\" cy=\"-18\" rx=\"60.39\" ry=\"18\"/>\r\n",
       "<text text-anchor=\"middle\" x=\"60.44\" y=\"-14.3\" font-family=\"Times New Roman,serif\" font-size=\"14.00\">Employability</text>\r\n",
       "</g>\r\n",
       "<!-- B&#45;&gt;L -->\r\n",
       "<g id=\"edge3\" class=\"edge\">\r\n",
       "<title>B:&#45;&gt;L:</title>\r\n",
       "<path fill=\"none\" stroke=\"black\" d=\"M107.04,-96.8C96.11,-78.55 84.69,-59.49 75.9,-44.81\"/>\r\n",
       "<polygon fill=\"black\" stroke=\"black\" points=\"78.67,-42.62 70.53,-35.84 72.67,-46.22 78.67,-42.62\"/>\r\n",
       "<text text-anchor=\"middle\" x=\"92.94\" y=\"-57.8\" font-family=\"Times New Roman,serif\" font-size=\"14.00\">&#45;</text>\r\n",
       "</g>\r\n",
       "<!-- L&#45;&gt;A -->\r\n",
       "<g id=\"edge4\" class=\"edge\">\r\n",
       "<title>L:&#45;&gt;A:</title>\r\n",
       "<path fill=\"none\" stroke=\"black\" d=\"M58.2,-36.01C56.51,-49.74 54.34,-69.58 53.44,-87 50.18,-150.56 49.46,-166.67 53.44,-230.19 54.28,-243.57 55.69,-257.81 57.29,-271.47\"/>\r\n",
       "<polygon fill=\"black\" stroke=\"black\" points=\"53.86,-272.28 58.54,-281.79 60.81,-271.44 53.86,-272.28\"/>\r\n",
       "<text text-anchor=\"middle\" x=\"57.94\" y=\"-154.89\" font-family=\"Times New Roman,serif\" font-size=\"14.00\">+</text>\r\n",
       "</g>\r\n",
       "<!-- I -->\r\n",
       "<g id=\"node4\" class=\"node\">\r\n",
       "<title>I</title>\r\n",
       "<ellipse fill=\"none\" stroke=\"black\" cx=\"81.44\" cy=\"-559.58\" rx=\"61.99\" ry=\"18\"/>\r\n",
       "<text text-anchor=\"middle\" x=\"81.44\" y=\"-555.88\" font-family=\"Times New Roman,serif\" font-size=\"14.00\">innovative law</text>\r\n",
       "</g>\r\n",
       "<!-- I&#45;&gt;A -->\r\n",
       "<g id=\"edge7\" class=\"edge\">\r\n",
       "<title>I:&#45;&gt;A:</title>\r\n",
       "<path fill=\"none\" stroke=\"black\" d=\"M59.07,-542.68C43.86,-530.41 25.02,-511.95 16.44,-490.58 4.87,-461.71 13.98,-429.08 27.54,-401.88\"/>\r\n",
       "<polygon fill=\"black\" stroke=\"black\" points=\"30.71,-403.36 32.28,-392.88 24.52,-400.1 30.71,-403.36\"/>\r\n",
       "<text text-anchor=\"middle\" x=\"20.94\" y=\"-468.88\" font-family=\"Times New Roman,serif\" font-size=\"14.00\">+</text>\r\n",
       "</g>\r\n",
       "<!-- I&#45;&gt;B -->\r\n",
       "<g id=\"edge8\" class=\"edge\">\r\n",
       "<title>I:&#45;&gt;B:</title>\r\n",
       "<path fill=\"none\" stroke=\"black\" d=\"M100.4,-542.25C113.52,-529.65 129.93,-510.95 137.44,-490.58 167.49,-409.16 164.18,-308.64 156.41,-239.87\"/>\r\n",
       "<polygon fill=\"black\" stroke=\"black\" points=\"159.84,-239.06 155.18,-229.54 152.88,-239.88 159.84,-239.06\"/>\r\n",
       "<text text-anchor=\"middle\" x=\"158.94\" y=\"-425.38\" font-family=\"Times New Roman,serif\" font-size=\"14.00\">+</text>\r\n",
       "</g>\r\n",
       "<!-- f -->\r\n",
       "<g id=\"node5\" class=\"node\">\r\n",
       "<title>f</title>\r\n",
       "<ellipse fill=\"none\" stroke=\"black\" cx=\"81.44\" cy=\"-472.58\" rx=\"47.39\" ry=\"18\"/>\r\n",
       "<text text-anchor=\"middle\" x=\"81.44\" y=\"-468.88\" font-family=\"Times New Roman,serif\" font-size=\"14.00\">Law firms</text>\r\n",
       "</g>\r\n",
       "<!-- I&#45;&gt;f -->\r\n",
       "<g id=\"edge5\" class=\"edge\">\r\n",
       "<title>I:&#45;&gt;f:</title>\r\n",
       "<path fill=\"none\" stroke=\"black\" d=\"M81.44,-541.38C81.44,-529.74 81.44,-514.13 81.44,-500.81\"/>\r\n",
       "<polygon fill=\"black\" stroke=\"black\" points=\"84.94,-500.75 81.44,-490.75 77.94,-500.75 84.94,-500.75\"/>\r\n",
       "<text text-anchor=\"middle\" x=\"85.94\" y=\"-512.38\" font-family=\"Times New Roman,serif\" font-size=\"14.00\">+</text>\r\n",
       "</g>\r\n",
       "<!-- f&#45;&gt;A -->\r\n",
       "<g id=\"edge6\" class=\"edge\">\r\n",
       "<title>f:&#45;&gt;A:</title>\r\n",
       "<path fill=\"none\" stroke=\"black\" d=\"M79.59,-454.55C78.4,-443.72 76.78,-428.87 75.11,-413.57\"/>\r\n",
       "<polygon fill=\"black\" stroke=\"black\" points=\"78.57,-413.04 74.01,-403.48 71.61,-413.8 78.57,-413.04\"/>\r\n",
       "<text text-anchor=\"middle\" x=\"81.94\" y=\"-425.38\" font-family=\"Times New Roman,serif\" font-size=\"14.00\">+</text>\r\n",
       "</g>\r\n",
       "</g>\r\n",
       "</svg>\r\n"
      ],
      "text/plain": [
       "<graphviz.dot.Digraph at 0x1c52e5d3e08>"
      ]
     },
     "execution_count": 1,
     "metadata": {},
     "output_type": "execute_result"
    }
   ],
   "source": [
    "import graphviz\n",
    "\n",
    "dot = graphviz.Digraph(comment='The Round Table')\n",
    "\n",
    "\n",
    "dot.node('A', 'Study Board', shape='doublecircle')\n",
    "dot.node('B', 'Tech \\nenthusiast', shape=\"doublecircle\")\n",
    "dot.node('L', 'Employability')\n",
    "dot.node(\"I\", \"innovative law\")\n",
    "dot.node(\"f\", \"Law firms\")\n",
    "\n",
    "dot.edge (\"A\", \"B\", label=\"+\")\n",
    "dot.edge (\"B\",\"A\" ,label=\"+\")\n",
    "dot.edge('B', 'L', label=\"-\")\n",
    "dot.edge (\"L\", \"A\", label=\"+\")\n",
    "dot.edge (\"I\", \"f\", \"+\")\n",
    "dot.edge (\"f\", \"A\", \"+\")\n",
    "dot.edge (\"I\", \"A\", \"+\")\n",
    "dot.edge (\"I\", \"B\", \"+\")\n",
    "\n",
    "dot"
   ]
  },
  {
   "cell_type": "markdown",
   "metadata": {},
   "source": [
    "\n",
    "# Exporting data into a new spreadsheet"
   ]
  },
  {
   "cell_type": "code",
   "execution_count": null,
   "metadata": {},
   "outputs": [],
   "source": [
    "import pandas as pd\n",
    "\n",
    "mydata = pd.load_excel (\"mydatafile.xlsx\", encoding=\"latin1\")\n",
    "\n",
    "mydata_selection = mydata[mydata[\"username\"] == \"a_user\"]\n",
    "\n",
    "print (mydata_selection)\n",
    "\n",
    "mydata_selection.to_excel (\"my_new_excel_file.xlsx\")"
   ]
  }
 ],
 "metadata": {
  "kernelspec": {
   "display_name": "Python 3",
   "language": "python",
   "name": "python3"
  },
  "language_info": {
   "codemirror_mode": {
    "name": "ipython",
    "version": 3
   },
   "file_extension": ".py",
   "mimetype": "text/x-python",
   "name": "python",
   "nbconvert_exporter": "python",
   "pygments_lexer": "ipython3",
   "version": "3.7.6"
  }
 },
 "nbformat": 4,
 "nbformat_minor": 4
}
